{
 "cells": [
  {
   "cell_type": "code",
   "execution_count": 1,
   "metadata": {},
   "outputs": [],
   "source": [
    "import pandas as pd\n",
    "import numpy as np\n",
    "import os\n",
    "import json\n",
    "from collections import defaultdict\n",
    "\n",
    "from data_prep_scripts.data_countries import pred_country_data \n",
    "from data_prep_scripts.data_manipulation import divide_repetitive_blocks, process_block, df_replaceColVals_vars\n",
    "from data_prep_scripts.field_derivations import derive_relatives_categ"
   ]
  },
  {
   "cell_type": "code",
   "execution_count": 2,
   "metadata": {},
   "outputs": [],
   "source": [
    "country_features = pred_country_data()"
   ]
  },
  {
   "cell_type": "code",
   "execution_count": 3,
   "metadata": {},
   "outputs": [],
   "source": [
    "medData = pd.read_excel('Merged File 2.5.19 De-identified.xlsx')\n",
    "medData['Country of Origin for Father'].replace(76,'Ireland',inplace=True)\n",
    "medData = medData[(medData['Breast Cancer?']=='Yes') & (medData['Gender'] == 'Female')]\n",
    "medData = medData.applymap(lambda s:s.lower() if type(s) == str else s)"
   ]
  },
  {
   "cell_type": "code",
   "execution_count": 4,
   "metadata": {},
   "outputs": [],
   "source": [
    "predCol = pd.read_excel('Additional BCD Info 3.1.19 De-identified.xlsx',usecols=\"A,DZ\")"
   ]
  },
  {
   "cell_type": "code",
   "execution_count": 5,
   "metadata": {},
   "outputs": [],
   "source": [
    "medData = medData.merge(predCol,left_on='ID #', right_on='ID #')"
   ]
  },
  {
   "cell_type": "code",
   "execution_count": 6,
   "metadata": {},
   "outputs": [],
   "source": [
    "ind_repititive_blocks = [\n",
    "    (47,89,7),(89,117,7),(117,152,7),\n",
    "    (163,191,7),(197,213,4),(214,249,5),\n",
    "    (294,348,6),(349,356,7),(357,364,7)\n",
    "]\n",
    "ind_not_del = list(range(22,43)) + [274]"
   ]
  },
  {
   "cell_type": "code",
   "execution_count": 7,
   "metadata": {},
   "outputs": [],
   "source": [
    "familyData1 = medData.iloc[:,47:89]"
   ]
  },
  {
   "cell_type": "code",
   "execution_count": 8,
   "metadata": {},
   "outputs": [],
   "source": [
    "result = divide_repetitive_blocks(\n",
    "    familyData1,\n",
    "    7,\n",
    "    categ_cols = [0,2,4,5],\n",
    "    float_cols = [3],\n",
    "    derive_fields=[(derive_relatives_categ,'relative_categ','categ')],\n",
    "    null_fields=['Relative:','Age at diagnosis'],\n",
    "    col_trim_begin=3,\n",
    "    col_trim_end=0,\n",
    "    lower_case=True\n",
    ")"
   ]
  },
  {
   "cell_type": "code",
   "execution_count": 9,
   "metadata": {},
   "outputs": [],
   "source": [
    "# mixed_cols=[]\n",
    "# for ii, (a,b) in enumerate(medData.dtypes.iteritems()):\n",
    "#     if b == object:\n",
    "#         types = set([type(k) for k in list(medData[a].dropna() ) ])\n",
    "#         if str in types and len(types)>1: \n",
    "#             print(ii,a,b)"
   ]
  },
  {
   "cell_type": "code",
   "execution_count": 10,
   "metadata": {},
   "outputs": [],
   "source": [
    "# columns that should only contain real numbered values, but contain strings in the raw data.\n",
    "mixedCols_write_strs = [92,121,126,131,136,141,146,151,152,192,294,303,416,417,418,446,449]\n",
    "# delcols \n",
    "# numbers greater than 30000\n",
    "mixedCols_write_ints = []\n",
    "\n",
    "dict_replaceColVals = df_replaceColVals_vars(medData,mixedCols_write_strs,str_vals=True)"
   ]
  },
  {
   "cell_type": "code",
   "execution_count": null,
   "metadata": {},
   "outputs": [],
   "source": []
  },
  {
   "cell_type": "code",
   "execution_count": 11,
   "metadata": {},
   "outputs": [],
   "source": [
    "# cols_to_del=[]\n",
    "# for ii, (a,b) in enumerate(medData.dtypes.iteritems()):\n",
    "#     in_rep_block = False\n",
    "#     for block in ind_repititive_blocks: \n",
    "#         if ii>=block[0] and ii < block[1]: in_rep_block = True\n",
    "            \n",
    "#     if not in_rep_block and b == object and ii not in ind_not_del:\n",
    "#         col_max_count = medData[a].value_counts().iloc[0]\n",
    "#         if col_max_count < 250: cols_to_del.append(a)\n",
    "#         elif medData.shape[0]-col_max_count < 250: cols_to_del.append(a)\n"
   ]
  }
 ],
 "metadata": {
  "kernelspec": {
   "display_name": "Python 3",
   "language": "python",
   "name": "python3"
  },
  "language_info": {
   "codemirror_mode": {
    "name": "ipython",
    "version": 3
   },
   "file_extension": ".py",
   "mimetype": "text/x-python",
   "name": "python",
   "nbconvert_exporter": "python",
   "pygments_lexer": "ipython3",
   "version": "3.7.3"
  }
 },
 "nbformat": 4,
 "nbformat_minor": 2
}
