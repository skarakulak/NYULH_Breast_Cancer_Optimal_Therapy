{
 "cells": [
  {
   "cell_type": "code",
   "execution_count": 1,
   "metadata": {},
   "outputs": [],
   "source": [
    "import pandas as pd\n",
    "import numpy as np\n",
    "import os\n",
    "import json\n",
    "from collections import defaultdict\n",
    "\n",
    "from data_prep_scripts.data_countries import pred_country_data \n",
    "from data_prep_scripts.data_manipulation import df_replaceColVals_vars\n",
    "from data_prep_scripts.process_repetitive_cols import get_repetitive_cols"
   ]
  },
  {
   "cell_type": "code",
   "execution_count": 2,
   "metadata": {},
   "outputs": [],
   "source": [
    "country_features = pred_country_data()"
   ]
  },
  {
   "cell_type": "code",
   "execution_count": 3,
   "metadata": {},
   "outputs": [],
   "source": [
    "medData = pd.read_excel('Merged File 2.5.19 De-identified.xlsx')\n",
    "medData['Country of Origin for Father'].replace(76,'Ireland',inplace=True)\n",
    "medData = medData[(medData['Breast Cancer?']=='Yes') & (medData['Gender'] == 'Female')]\n",
    "medData = medData.applymap(lambda s:s.lower() if type(s) == str else s)\n",
    "predCol = pd.read_excel('Additional BCD Info 3.1.19 De-identified.xlsx',usecols=\"A,DZ\")\n",
    "medData = medData.merge(predCol,left_on='ID #', right_on='ID #')"
   ]
  },
  {
   "cell_type": "code",
   "execution_count": 4,
   "metadata": {},
   "outputs": [],
   "source": [
    "ind_repititive_blocks = [\n",
    "    (47,89,7),(89,117,7),(117,152,7),\n",
    "    (163,191,7),(197,213,4),(214,249,5),\n",
    "    (294,348,6),(349,356,7),(357,364,7),\n",
    "    (427,436,9)\n",
    "]\n",
    "ind_not_del = list(range(22,43)) + [274]\n",
    "ind_to_del = [2,3,4,13,(197,213),(349,356),(357,364)]"
   ]
  },
  {
   "cell_type": "code",
   "execution_count": 5,
   "metadata": {},
   "outputs": [],
   "source": [
    "# processes blocks of columns that contain the same type of information\n",
    "# groups them and returns them in lists.\n",
    "rep_cols = get_repetitive_cols(medData)"
   ]
  },
  {
   "cell_type": "code",
   "execution_count": 6,
   "metadata": {},
   "outputs": [],
   "source": [
    "# mixed_cols=[]\n",
    "# for ii, (a,b) in enumerate(medData.dtypes.iteritems()):\n",
    "#     if b == object:\n",
    "#         types = set([type(k) for k in list(medData[a].dropna() ) ])\n",
    "#         if str in types and len(types)>1: \n",
    "#             print(ii,a,b)"
   ]
  },
  {
   "cell_type": "code",
   "execution_count": 7,
   "metadata": {},
   "outputs": [],
   "source": [
    "# columns that should only contain real numbered values, but contain strings in the raw data.\n",
    "# this part of the code saves such string values in a json file, where we can specify\n",
    "# the values to replace them with.\n",
    "mixedCols_write_strs = [92,121,126,131,136,141,146,151,152,192,294,303,416,417,418,446,449]\n",
    "dict_replaceColVals = df_replaceColVals_vars(medData,mixedCols_write_strs,str_vals=True)"
   ]
  },
  {
   "cell_type": "code",
   "execution_count": 8,
   "metadata": {},
   "outputs": [],
   "source": [
    "medData.replace(dict_replaceColVals,inplace=True)"
   ]
  },
  {
   "cell_type": "code",
   "execution_count": 9,
   "metadata": {},
   "outputs": [
    {
     "name": "stderr",
     "output_type": "stream",
     "text": [
      "/home/serkan/anaconda3/lib/python3.7/site-packages/numpy/core/fromnumeric.py:3118: RuntimeWarning: Mean of empty slice.\n",
      "  out=out, **kwargs)\n",
      "/home/serkan/anaconda3/lib/python3.7/site-packages/numpy/core/_methods.py:85: RuntimeWarning: invalid value encountered in double_scalars\n",
      "  ret = ret.dtype.type(ret / rcount)\n",
      "/home/serkan/anaconda3/lib/python3.7/site-packages/numpy/core/_methods.py:140: RuntimeWarning: Degrees of freedom <= 0 for slice\n",
      "  keepdims=keepdims)\n",
      "/home/serkan/anaconda3/lib/python3.7/site-packages/numpy/core/_methods.py:110: RuntimeWarning: invalid value encountered in true_divide\n",
      "  arrmean, rcount, out=arrmean, casting='unsafe', subok=False)\n",
      "/home/serkan/anaconda3/lib/python3.7/site-packages/numpy/core/_methods.py:132: RuntimeWarning: invalid value encountered in double_scalars\n",
      "  ret = ret.dtype.type(ret / rcount)\n"
     ]
    }
   ],
   "source": [
    "# replace outlier values with the values given in the json file\n",
    "# where we can specify the values to replace them with\n",
    "dict_replaceColVals_cont = df_replaceColVals_vars(medData,str_vals=False, cont_vals=True)\n",
    "for k,v in dict_replaceColVals_cont.items():\n",
    "    k_l, v_l = [], []\n",
    "    for key, val in v.items():\n",
    "        k_l.append(float(key)); v_l.append(val)\n",
    "    medData[k].replace(k_l,v_l,inplace=True)\n",
    "        "
   ]
  },
  {
   "cell_type": "code",
   "execution_count": 10,
   "metadata": {},
   "outputs": [],
   "source": [
    "col_min_max_count = 250\n",
    "val_count_threshold = 100\n",
    "col_values_replace_OTH = defaultdict(lambda:[])\n",
    "cols_to_del=[]\n",
    "\n",
    "for ii, (a,b) in enumerate(medData.dtypes.iteritems()):\n",
    "    # do not delete the column in repetitive blocks\n",
    "    in_rep_block = False\n",
    "    for block in ind_repititive_blocks: \n",
    "        if ii>=block[0] and ii < block[1]: in_rep_block = True\n",
    "            \n",
    "    if not in_rep_block and b == object and ii not in ind_not_del:\n",
    "        col_counts = medData[a].value_counts()        \n",
    "        col_max_count = col_counts.iloc[0]\n",
    "        # the most frequent value of a column should occur at least 'col_min_max_count' times\n",
    "        if col_max_count < col_min_max_count: cols_to_del.append(a)\n",
    "        elif medData.shape[0]-col_max_count < col_min_max_count: cols_to_del.append(a)\n",
    "        # for the columns that we preserve, we replace values if their \n",
    "        # frequency is not above the given threshold 'val_count_threshold'.\n",
    "        else:\n",
    "            vals_to_OTH = list(col_counts[col_counts<val_count_threshold].index)\n",
    "            if vals_to_OTH: \n",
    "                col_values_replace_OTH[a] = vals_to_OTH\n",
    "# print(len(col_values_replace_OTH.keys()))\n",
    "# print(col_values_replace_OTH.keys())\n",
    "# print(len(cols_to_del))\n",
    "# print(cols_to_del)"
   ]
  },
  {
   "cell_type": "code",
   "execution_count": 11,
   "metadata": {},
   "outputs": [],
   "source": [
    "# I deleted the datetime values for now. Will be added in the next iterations.\n",
    "cols_to_del += list(medData.select_dtypes(include=['datetime']))"
   ]
  }
 ],
 "metadata": {
  "kernelspec": {
   "display_name": "Python 3",
   "language": "python",
   "name": "python3"
  },
  "language_info": {
   "codemirror_mode": {
    "name": "ipython",
    "version": 3
   },
   "file_extension": ".py",
   "mimetype": "text/x-python",
   "name": "python",
   "nbconvert_exporter": "python",
   "pygments_lexer": "ipython3",
   "version": "3.7.3"
  }
 },
 "nbformat": 4,
 "nbformat_minor": 2
}
