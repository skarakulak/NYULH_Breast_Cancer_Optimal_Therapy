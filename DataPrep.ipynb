{
 "cells": [
  {
   "cell_type": "code",
   "execution_count": 1,
   "metadata": {},
   "outputs": [],
   "source": [
    "import pandas as pd\n",
    "import numpy as np\n",
    "import os\n",
    "import json\n",
    "from collections import defaultdict\n",
    "\n",
    "from data_prep_scripts.data_countries import predCountryData \n",
    "from data_prep_scripts.data_manipulation import divideRepetitiveBlocks, processBlock \n",
    "from data_prep_scripts.field_derivations import deriveRelativesCateg"
   ]
  },
  {
   "cell_type": "code",
   "execution_count": 2,
   "metadata": {},
   "outputs": [],
   "source": [
    "country_features = predCountryData()"
   ]
  },
  {
   "cell_type": "code",
   "execution_count": 3,
   "metadata": {},
   "outputs": [],
   "source": [
    "medData = pd.read_excel('Merged File 2.5.19 De-identified.xlsx')\n",
    "medData['Country of Origin for Father'].replace(76,'Ireland',inplace=True)"
   ]
  },
  {
   "cell_type": "code",
   "execution_count": 4,
   "metadata": {},
   "outputs": [],
   "source": [
    "familyData1 = medData.iloc[:,47:89]"
   ]
  },
  {
   "cell_type": "code",
   "execution_count": 5,
   "metadata": {},
   "outputs": [],
   "source": [
    "result = divideRepetitiveBlocks(\n",
    "    familyData1,\n",
    "    7,\n",
    "    categ_cols = [0,2,4,5],\n",
    "    float_cols = [3],\n",
    "    derive_fields=[(deriveRelativesCateg,'relative_categ','categ')],\n",
    "    null_fields=['Relative:','Age at diagnosis'],\n",
    "    col_trim_begin=3,\n",
    "    col_trim_end=0,\n",
    "    lower_case=True\n",
    ")"
   ]
  }
 ],
 "metadata": {
  "kernelspec": {
   "display_name": "Python 3",
   "language": "python",
   "name": "python3"
  },
  "language_info": {
   "codemirror_mode": {
    "name": "ipython",
    "version": 3
   },
   "file_extension": ".py",
   "mimetype": "text/x-python",
   "name": "python",
   "nbconvert_exporter": "python",
   "pygments_lexer": "ipython3",
   "version": "3.6.7"
  }
 },
 "nbformat": 4,
 "nbformat_minor": 2
}
